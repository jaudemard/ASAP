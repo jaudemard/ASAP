{
 "cells": [
  {
   "cell_type": "code",
   "execution_count": 11,
   "id": "230b0365-1425-4a16-b90e-6555ad0c002a",
   "metadata": {
    "scrolled": true
   },
   "outputs": [
    {
     "ename": "ModuleNotFoundError",
     "evalue": "No module named 'Bio'",
     "output_type": "error",
     "traceback": [
      "\u001b[0;31m---------------------------------------------------------------------------\u001b[0m",
      "\u001b[0;31mModuleNotFoundError\u001b[0m                       Traceback (most recent call last)",
      "Cell \u001b[0;32mIn[11], line 1\u001b[0m\n\u001b[0;32m----> 1\u001b[0m \u001b[38;5;28;01mimport\u001b[39;00m \u001b[38;5;21;01mBio\u001b[39;00m\u001b[38;5;21;01m.\u001b[39;00m\u001b[38;5;21;01mPDB\u001b[39;00m\u001b[38;5;21;01m.\u001b[39;00m\u001b[38;5;21;01mNACCESS\u001b[39;00m\n",
      "\u001b[0;31mModuleNotFoundError\u001b[0m: No module named 'Bio'"
     ]
    }
   ],
   "source": [
    "import Bio.PDB.NACCESS"
   ]
  },
  {
   "cell_type": "code",
   "execution_count": 10,
   "id": "5e391356-facd-4ecc-96dc-31663a232a9a",
   "metadata": {},
   "outputs": [
    {
     "name": "stdout",
     "output_type": "stream",
     "text": [
      "Package        Version\n",
      "-------------- -------\n",
      "appdirs        1.4.4\n",
      "biopython      1.84\n",
      "jedi           0.19.1\n",
      "numpy          1.26.4\n",
      "parso          0.8.4\n",
      "pip            24.2\n",
      "prompt_toolkit 3.0.47\n",
      "ptpython       3.0.29\n",
      "Pygments       2.18.0\n",
      "setuptools     72.1.0\n",
      "wcwidth        0.2.13\n",
      "wheel          0.43.0\n"
     ]
    }
   ],
   "source": [
    "%%bash\n",
    "pip list"
   ]
  }
 ],
 "metadata": {
  "kernelspec": {
   "display_name": "Python 3 (ipykernel)",
   "language": "python",
   "name": "python3"
  },
  "language_info": {
   "codemirror_mode": {
    "name": "ipython",
    "version": 3
   },
   "file_extension": ".py",
   "mimetype": "text/x-python",
   "name": "python",
   "nbconvert_exporter": "python",
   "pygments_lexer": "ipython3",
   "version": "3.12.4"
  }
 },
 "nbformat": 4,
 "nbformat_minor": 5
}
